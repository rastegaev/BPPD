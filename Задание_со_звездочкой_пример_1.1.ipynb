{
 "cells": [
  {
   "cell_type": "code",
   "execution_count": 1,
   "id": "c994f003-60c4-4cf6-b98b-362a036ccc7d",
   "metadata": {},
   "outputs": [
    {
     "name": "stdout",
     "output_type": "stream",
     "text": [
      "Сегодня мы будем играть с вводом и форматированными строками\n"
     ]
    }
   ],
   "source": [
    "print (\"Сегодня мы будем играть с вводом и форматированными строками\")"
   ]
  },
  {
   "cell_type": "code",
   "execution_count": 15,
   "id": "60121f62-8e86-4804-a1d3-c82201685bed",
   "metadata": {},
   "outputs": [
    {
     "name": "stdout",
     "output_type": "stream",
     "text": [
      "     \n",
      "Введите свое имя\n"
     ]
    },
    {
     "name": "stdin",
     "output_type": "stream",
     "text": [
      " Сергей\n"
     ]
    },
    {
     "name": "stdout",
     "output_type": "stream",
     "text": [
      "Введите свою фамилию\n"
     ]
    },
    {
     "name": "stdin",
     "output_type": "stream",
     "text": [
      " Иванов\n"
     ]
    },
    {
     "name": "stdout",
     "output_type": "stream",
     "text": [
      "Укажите ваш пол (М/Ж)\n"
     ]
    },
    {
     "name": "stdin",
     "output_type": "stream",
     "text": [
      " М\n"
     ]
    },
    {
     "name": "stdout",
     "output_type": "stream",
     "text": [
      "Вы занесены в базу призывников 2025\n",
      "Имя: Сергей, Фамилия: Иванов, Пол: Мужик\n"
     ]
    }
   ],
   "source": [
    "print (\"     \")\n",
    "print (\"Введите свое имя\")\n",
    "name = input()\n",
    "print (\"Введите свою фамилию\")\n",
    "surename = input()\n",
    "print (\"Укажите ваш пол (М/Ж)\")\n",
    "sex = input()\n",
    "\n",
    "sexDict = {'М': 'Мужик', \"Ж\": 'Женшина'}\n",
    "if sexDict.get(sex):\n",
    "    print(\"Вы занесены в базу призывников 2025\")\n",
    "    sex_from_dict = sexDict.get(sex)\n",
    "    print(f\"Имя: {name}, Фамилия: {surename}, Пол: {sex_from_dict}\")\n",
    "else:\n",
    "    print(\"Вы что, трансгендер? Отправка данных в ФСБ...\")"
   ]
  },
  {
   "cell_type": "code",
   "execution_count": null,
   "id": "9ae1db3a-3a0e-4ac7-a345-181bffbfd7dc",
   "metadata": {},
   "outputs": [],
   "source": []
  }
 ],
 "metadata": {
  "kernelspec": {
   "display_name": "Python [conda env:base] *",
   "language": "python",
   "name": "conda-base-py"
  },
  "language_info": {
   "codemirror_mode": {
    "name": "ipython",
    "version": 3
   },
   "file_extension": ".py",
   "mimetype": "text/x-python",
   "name": "python",
   "nbconvert_exporter": "python",
   "pygments_lexer": "ipython3",
   "version": "3.12.7"
  }
 },
 "nbformat": 4,
 "nbformat_minor": 5
}
