{
 "cells": [
  {
   "cell_type": "code",
   "execution_count": 5,
   "id": "a26f465d-7c2e-406b-bf4e-3c5cc10870e6",
   "metadata": {},
   "outputs": [
    {
     "name": "stdout",
     "output_type": "stream",
     "text": [
      "Введите свое имя\n"
     ]
    },
    {
     "name": "stdin",
     "output_type": "stream",
     "text": [
      " Александр\n"
     ]
    },
    {
     "name": "stdout",
     "output_type": "stream",
     "text": [
      "Александр, введите ваш возраст\n"
     ]
    },
    {
     "name": "stdin",
     "output_type": "stream",
     "text": [
      " фвавф\n"
     ]
    },
    {
     "name": "stdout",
     "output_type": "stream",
     "text": [
      "Александр, введите, пожалуйста, ваш возраст в числовом виде, пример: 0 - 99\n"
     ]
    },
    {
     "name": "stdin",
     "output_type": "stream",
     "text": [
      " фыва\n"
     ]
    },
    {
     "name": "stdout",
     "output_type": "stream",
     "text": [
      "Александр, введите, пожалуйста, ваш возраст в числовом виде, пример: 0 - 99\n"
     ]
    },
    {
     "name": "stdin",
     "output_type": "stream",
     "text": [
      " ыфва\n"
     ]
    },
    {
     "name": "stdout",
     "output_type": "stream",
     "text": [
      "Александр, введите, пожалуйста, ваш возраст в числовом виде, пример: 0 - 99\n"
     ]
    },
    {
     "name": "stdin",
     "output_type": "stream",
     "text": [
      " ыва\n"
     ]
    },
    {
     "name": "stdout",
     "output_type": "stream",
     "text": [
      "Александр, введите, пожалуйста, ваш возраст в числовом виде, пример: 0 - 99\n"
     ]
    },
    {
     "name": "stdin",
     "output_type": "stream",
     "text": [
      " ываывав\n"
     ]
    },
    {
     "name": "stdout",
     "output_type": "stream",
     "text": [
      "Александр, введите, пожалуйста, ваш возраст в числовом виде, пример: 0 - 99\n"
     ]
    },
    {
     "name": "stdin",
     "output_type": "stream",
     "text": [
      " ываываыва\n"
     ]
    },
    {
     "name": "stdout",
     "output_type": "stream",
     "text": [
      "Александр, введите, пожалуйста, ваш возраст в числовом виде, пример: 0 - 99\n"
     ]
    },
    {
     "name": "stdin",
     "output_type": "stream",
     "text": [
      " ыаываыва\n"
     ]
    },
    {
     "name": "stdout",
     "output_type": "stream",
     "text": [
      "Александр, введите, пожалуйста, ваш возраст в числовом виде, пример: 0 - 99\n"
     ]
    },
    {
     "name": "stdin",
     "output_type": "stream",
     "text": [
      " 18\n"
     ]
    },
    {
     "name": "stdout",
     "output_type": "stream",
     "text": [
      "Ваше имя: Александр, ваш возраст: 18\n",
      "Ты - не Сергей\n",
      "Александр, вы юн и молод\n"
     ]
    }
   ],
   "source": [
    "# \n",
    "def get_age(name, strAge):\n",
    "    while strAge.isdigit() == False:\n",
    "        print(f\"{name}, введите, пожалуйста, ваш возраст в числовом виде, пример: 0 - 99\")\n",
    "        strAge = input()\n",
    "    return int(strAge)\n",
    "\n",
    "# коммент\n",
    "#\n",
    "print(\"Введите свое имя\")\n",
    "name = input()\n",
    "print(f\"{name}, введите ваш возраст\")\n",
    "strAge = input()\n",
    "age = get_age(name, strAge)\n",
    "\n",
    "print(f\"Ваше имя: {name}, ваш возраст: {age}\")\n",
    "\n",
    "if name == \"Сергей\":\n",
    "    print(\"Поздравляю, вы - Сергей\")\n",
    "else:\n",
    "    print(\"Ты - не Сергей\")\n",
    "\n",
    "    if age <= 0:\n",
    "        print(f\"{name}, вы что, дурак?\")\n",
    "        raise SystemExit\n",
    "    \n",
    "    # -MAX - 18 - юн и молод\n",
    "    # 18 - 34 - еще не стар\n",
    "    # 34 - +MAX - супер STAR\n",
    "    if age <= 18:\n",
    "        print(f\"{name}, вы юн и молод\")\n",
    "    elif age > 18 and age <= 34:\n",
    "        print(f\"{name}, вы еще не старый\")\n",
    "    else: # Диапазон этого else - от 34 до +MAX или > 34\n",
    "        print(f\"{name}, вы уже SUPER STAR\")\n",
    "\n"
   ]
  },
  {
   "cell_type": "code",
   "execution_count": null,
   "id": "d642bdae-43d9-4d7b-bb61-08ee7530efdb",
   "metadata": {},
   "outputs": [],
   "source": []
  }
 ],
 "metadata": {
  "kernelspec": {
   "display_name": "Python [conda env:base] *",
   "language": "python",
   "name": "conda-base-py"
  },
  "language_info": {
   "codemirror_mode": {
    "name": "ipython",
    "version": 3
   },
   "file_extension": ".py",
   "mimetype": "text/x-python",
   "name": "python",
   "nbconvert_exporter": "python",
   "pygments_lexer": "ipython3",
   "version": "3.12.7"
  }
 },
 "nbformat": 4,
 "nbformat_minor": 5
}
