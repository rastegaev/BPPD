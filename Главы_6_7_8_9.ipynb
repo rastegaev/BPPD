{
 "cells": [
  {
   "cell_type": "code",
   "execution_count": 1,
   "id": "5b44013e-cea5-4f53-af2b-938442c8d8d1",
   "metadata": {},
   "outputs": [
    {
     "name": "stdout",
     "output_type": "stream",
     "text": [
      "Тут мы будем решать задания 6, 7, 8 и 9 глав\n"
     ]
    }
   ],
   "source": [
    "print (\"Тут мы будем решать задания 6, 7, 8 и 9 глав\")"
   ]
  },
  {
   "cell_type": "code",
   "execution_count": 2,
   "id": "f62c35e7-7563-429e-b445-8aad55907595",
   "metadata": {},
   "outputs": [],
   "source": [
    "# ЛИСТИНГИ КОДА 6 ГЛАВЫ"
   ]
  },
  {
   "cell_type": "code",
   "execution_count": 3,
   "id": "373042ef-be57-4726-8aee-a730e8c4bfd1",
   "metadata": {},
   "outputs": [
    {
     "name": "stdout",
     "output_type": "stream",
     "text": [
      "myVar в десятичном представлении: 25\n",
      "myVar в двоичном представлении: 0b11001\n",
      "myVar в восьмеричном представлении: 0o31\n",
      "myVar в шестнадцатеричном представлении: 0x19\n"
     ]
    }
   ],
   "source": [
    "myVar = 25\n",
    "print (\"myVar в десятичном представлении:\", myVar)\n",
    "print (\"myVar в двоичном представлении:\", bin(myVar))\n",
    "print (\"myVar в восьмеричном представлении:\", oct(myVar))\n",
    "print (\"myVar в шестнадцатеричном представлении:\", hex(myVar))"
   ]
  },
  {
   "cell_type": "code",
   "execution_count": 4,
   "id": "a5f3b2f8-baf2-43db-8a34-64af7141604a",
   "metadata": {},
   "outputs": [
    {
     "name": "stdout",
     "output_type": "stream",
     "text": [
      "В книге описаны границы переменных типа, но они были убраны в новейшем питоне\n",
      "Максимально допустимое числовое значение для 64 битной ОС: 9223372036854775807\n",
      "Вот так мы перепрыгнули через лимит, скорее всего такое число будет занимать в памяти 2 размера int 18446744073709551614\n"
     ]
    }
   ],
   "source": [
    "print(\"В книге описаны границы переменных типа, но они были убраны в новейшем питоне\")\n",
    "import sys\n",
    "\n",
    "print(\"Максимально допустимое числовое значение для 64 битной ОС:\", sys.maxsize)\n",
    "# Вот что по этому поводу описано в доке\n",
    "# An integer giving the maximum value a variable of type Py_ssize_t can take. \n",
    "# It’s usually 2**31 - 1 on a 32-bit platform \n",
    "# and 2**63 - 1 on a 64-bit platform.\n",
    "# Давай запишем это значение в переменную и попробуем прибавить еще какое-то число?\n",
    "maxValue = sys.maxsize;\n",
    "maxValue = maxValue + maxValue # сложим максимальное число с максимальным,\n",
    "# на более старой версии питона мы бы получили переполнение буффера переменной\n",
    "print (\"Вот так мы перепрыгнули через лимит, скорее всего такое число будет занимать в памяти 2 размера int\", maxValue)\n",
    "# Но очень удобно не парится про переполнение лимита переменной :)\n"
   ]
  },
  {
   "cell_type": "code",
   "execution_count": 5,
   "id": "5058b008-7cf7-4061-8810-559e19288fe5",
   "metadata": {},
   "outputs": [
    {
     "name": "stdout",
     "output_type": "stream",
     "text": [
      "<class 'str'>\n",
      "<class 'int'>\n",
      "Парсим строку 123 как число: 123\n"
     ]
    }
   ],
   "source": [
    "# Преобразование строки в число\n",
    "myStringVar = \"123\"\n",
    "print(type(myStringVar))\n",
    "myIntVar = int(myStringVar)\n",
    "print(type(myIntVar))\n",
    "print (\"Парсим строку 123 как число:\", myIntVar)"
   ]
  },
  {
   "cell_type": "code",
   "execution_count": 6,
   "id": "14dfa03a-9fb4-4854-9e76-6e2053bc07bd",
   "metadata": {},
   "outputs": [
    {
     "ename": "ValueError",
     "evalue": "invalid literal for int() with base 10: '123_vasya'",
     "output_type": "error",
     "traceback": [
      "\u001b[0;31m---------------------------------------------------------------------------\u001b[0m",
      "\u001b[0;31mValueError\u001b[0m                                Traceback (most recent call last)",
      "Cell \u001b[0;32mIn[6], line 3\u001b[0m\n\u001b[1;32m      1\u001b[0m \u001b[38;5;66;03m# Преобразование не числовой строки в число\u001b[39;00m\n\u001b[1;32m      2\u001b[0m myStringVar \u001b[38;5;241m=\u001b[39m \u001b[38;5;124m\"\u001b[39m\u001b[38;5;124m123_vasya\u001b[39m\u001b[38;5;124m\"\u001b[39m\n\u001b[0;32m----> 3\u001b[0m myIntVar \u001b[38;5;241m=\u001b[39m \u001b[38;5;28mint\u001b[39m(myStringVar)\n\u001b[1;32m      4\u001b[0m \u001b[38;5;28mprint\u001b[39m (\u001b[38;5;124m\"\u001b[39m\u001b[38;5;124mПарсим строку 123_vasya как число:\u001b[39m\u001b[38;5;124m\"\u001b[39m, myIntVar)\n",
      "\u001b[0;31mValueError\u001b[0m: invalid literal for int() with base 10: '123_vasya'"
     ]
    }
   ],
   "source": [
    "# Преобразование не числовой строки в число\n",
    "myStringVar = \"123_vasya\"\n",
    "myIntVar = int(myStringVar)\n",
    "print (\"Парсим строку 123_vasya как число:\", myIntVar)"
   ]
  },
  {
   "cell_type": "code",
   "execution_count": null,
   "id": "63b2d9f6-3a36-4a2e-b832-475996141000",
   "metadata": {},
   "outputs": [],
   "source": [
    "# Преобразуем число в строку\n",
    "myFloatVal = 1234.56\n",
    "print(type(myFloatVal))\n",
    "myStringVal = str(myFloatVal)\n",
    "print(type(myStringVal))\n",
    "print (\"Преобразуем число\", myFloatVal, \"как строку:\", myStringVal)"
   ]
  },
  {
   "cell_type": "code",
   "execution_count": null,
   "id": "cce9153e-0129-467e-957b-45be2bee4f25",
   "metadata": {},
   "outputs": [],
   "source": [
    "# Работа с датой и временем\n",
    "# Подробная документация: \n",
    "import datetime # импортируем пакет работы с датой и временем\n",
    "import zoneinfo # Информация по временным зонам (часовым поясам)\n",
    "import time\n",
    "\n",
    "currDateTime = datetime.datetime.now() # https://docs.python.org/3/library/datetime.html\n",
    "print(type(currDateTime))\n",
    "print(\"Параметры пакета datetime:\")\n",
    "print(\"Минимальный год:\", datetime.MINYEAR)\n",
    "print(\"Максимальный год:\", datetime.MAXYEAR)\n",
    "\n",
    "print(\"     \")\n",
    "print(\"Текущая дата и время:\", currDateTime)\n",
    "# Если нам нужна только дата, то\n",
    "dateOnly = str(currDateTime.date()) # От даты и времени берем только дату\n",
    "timeOnly = str(currDateTime.time()) # От даты и времени берем только время\n",
    "print(\"Текущая дата:\", dateOnly)\n",
    "print(\"Текущее время:\", timeOnly)\n",
    "\n",
    "# А теперь давайте попробуем взять дату и время из прошлого\n",
    "# class datetime.datetime(year, month, day, hour=0, minute=0, second=0, microsecond=0, tzinfo=None, *, fold=0)\n",
    "print(\"     \")\n",
    "zone = zoneinfo.ZoneInfo(\"Europe/Moscow\")\n",
    "print(type(zone))\n",
    "birthDay = datetime.datetime(1990, 1, 16, 7, 0, 0, 0, zone)\n",
    "print(type(birthDay))\n",
    "print(\"ДР Сережи:\", birthDay) # 1990-01-16 07:00:00+03:00 (+03:00 - часовой пояс Москвы) \n",
    "# в стандартной записи дата записывается так: год, месяц, день месяца\n",
    "# Данный формат вывода даты соответствует такому шаблону времени в java: yyyy-MM-dd HH:mm:ssXXX\n",
    "# Вывод ДР в формате ISO (стандарт)\n",
    "print(\"ДР Сережи в формате ISO:\", birthDay.isoformat())\n",
    "print(\"ДР Сережи в своем формате:\", birthDay.strftime(\"%d/%m/%Y %H:%M:%S\"))\n",
    "# И еще один вариант отформатировать мой ДР\n",
    "formatted_bd = f\"{birthDay.day:02d}|{birthDay.month:02d}|{birthDay.year} {birthDay.hour:02d}:{birthDay.minute:02d}:{birthDay.second:02d} {birthDay.tzinfo}\"\n",
    "print(\"ДР Сережи в своем формате (2):\", formatted_bd)\n",
    "# Еще один вариант использования\n",
    "print(\"     \")\n",
    "currTime = time.localtime() # https://docs.python.org/3/library/time.html#time.localtime\n",
    "print(type(currTime))\n",
    "print(\"Текущая дата, год:\", currTime.tm_year)\n",
    "print(\"Текущая дата, месяц:\", currTime.tm_mon)\n",
    "print(\"Текущая дата, день в месяце:\", currTime.tm_mday)\n",
    "print(\"Текущая дата, день в неделе:\", currTime.tm_wday)\n",
    "print(\"Текущая дата, день в году:\", currTime.tm_yday)\n",
    "print(\"----------------\")\n",
    "print(\"Текущее время, час:\", currTime.tm_hour)\n",
    "print(\"Текущее время, минута:\", currTime.tm_min)\n",
    "print(\"Текущее время, секунда:\", currTime.tm_sec)\n",
    "print(\"Текущее время, временная зона:\", currTime.tm_zone)"
   ]
  },
  {
   "cell_type": "code",
   "execution_count": null,
   "id": "9f5341fe-e6dc-40af-b1a9-2f55b5a3228a",
   "metadata": {},
   "outputs": [],
   "source": [
    "# ЛИСТИНГИ КОДА 7 ГЛАВЫ"
   ]
  },
  {
   "cell_type": "code",
   "execution_count": null,
   "id": "9455b7da-0a67-453a-a1a0-19335335a8fc",
   "metadata": {},
   "outputs": [],
   "source": [
    "print(\"Унарные операторы\")\n",
    "print(\"     \")\n",
    "print(\"Оператор ~ <-- не работает как надо (в книге ошибка)\")\n",
    "x = 10\n",
    "print(\"Дано число в десятичном представлении:\", x)\n",
    "binary = bin(x);\n",
    "print(\"Переведем число в двоичное представление:\", binary)\n",
    "print(\"Применим унарный оператор ~ к двоичному (бинарному) представлению числа\", x, \", и получим ответ:\")\n",
    "print(\"Было:\", x)\n",
    "print(\"Стало:\", ~x)\n",
    "# Какая-то хуета, не так должно работать...\n",
    "# пропустим эту тему, оставляю для СЕБЯ заметку: https://stackoverflow.com/questions/7278779/bit-wise-operation-unary-invert\n",
    "\n",
    "print(\"     \")\n",
    "print(\"Оператор -\")\n",
    "x = -10\n",
    "y = 25\n",
    "print(\"Дано число в десятичном представлении:\", x)\n",
    "print(\"Применим унарный оператор - к числу\", x, \", и получим ответ:\", -x)\n",
    "print(\"Дано число в десятичном представлении:\", y)\n",
    "print(\"Применим унарный оператор - к числу\", y, \", и получим ответ:\", -y)\n"
   ]
  },
  {
   "cell_type": "code",
   "execution_count": null,
   "id": "cc1bd33d-63f2-4b82-a8ad-c19844a000b6",
   "metadata": {},
   "outputs": [],
   "source": [
    "# ТЕРНАРНЫЙ ОПЕРАТОР В PYTHON\n",
    "print(\"Вариант 1 <---- Используйте в основном его!!! 2-ой вариант ме\")\n",
    "print(\"Введи одну из команд:\")\n",
    "print(\"\\'start\\' - для начала общения\")\n",
    "print(\"\\'exit\\' - для завершения чата\")\n",
    "cmd = input()\n",
    "print(\"Вы ввели\", cmd)\n",
    "# Тернарный оператор\n",
    "# ЗначениеИстина if Выражение else ЗначениеЛожь\n",
    "# В данном случае если исполняется выражение cmd == \"start\" (команда эквивалентна строке \"start\")\n",
    "# то мы в переменную result запишем значение из \"ЗначениеИстина\", т.е. \"Привет, меня зовут чат-бот, а тебя?\"\n",
    "# но если выражение cmd == \"start\" вернет False (неуспех), то в переменнную result будет записано значение \"ЗначениеЛожь\", т.е. \"Хорошего дня, пока-пока!\"\n",
    "result = \"Привет, меня зовут чат-бот, а тебя?\" if cmd == \"start\" else \"Хорошего дня, пока-пока!\"\n",
    "print(\"Чат-Бот:\", result)\n"
   ]
  },
  {
   "cell_type": "code",
   "execution_count": 14,
   "id": "43ed21a6-d3b1-4625-933f-7dda206851b8",
   "metadata": {},
   "outputs": [
    {
     "name": "stdout",
     "output_type": "stream",
     "text": [
      "Вариант 2\n",
      "Введи одну из команд:\n",
      "'start' - для начала общения\n",
      "'exit' - для завершения чата\n"
     ]
    },
    {
     "name": "stdin",
     "output_type": "stream",
     "text": [
      " 1\n"
     ]
    },
    {
     "name": "stdout",
     "output_type": "stream",
     "text": [
      "Вы ввели 1\n",
      "Чат-Бот: Хорошего дня, пока-пока!\n"
     ]
    }
   ],
   "source": [
    "# ТЕРНАРНЫЙ ОПЕРАТОР В PYTHON\n",
    "print(\"Вариант 2 <---- Старайтесь избегать использование данного варианта, он хуже читается, чем первый\")\n",
    "print(\"Введи одну из команд:\")\n",
    "print(\"\\'start\\' - для начала общения\")\n",
    "print(\"\\'exit\\' - для завершения чата\")\n",
    "cmd = input()\n",
    "print(\"Вы ввели\", cmd)\n",
    "# Тернарный оператор\n",
    "# (ЗначениеЛожь, ЗначениеИстина) [Выражение]\n",
    "# В данном случае если исполняется выражение cmd == \"start\" (команда эквивалентна строке \"start\")\n",
    "# то мы в переменную result запишем значение из \"ЗначениеИстина\", т.е. \"Привет, меня зовут чат-бот, а тебя?\"\n",
    "# но если выражение cmd == \"start\" вернет False (неуспех), то в переменнную result будет записано значение \"ЗначениеЛожь\", т.е. \"Хорошего дня, пока-пока!\"\n",
    "result = (\"Хорошего дня, пока-пока!\", \"Привет, меня зовут чат-бот, а тебя?\") [cmd == \"start\"]\n",
    "print(\"Чат-Бот:\", result)"
   ]
  },
  {
   "cell_type": "code",
   "execution_count": null,
   "id": "b1d3bbf6-a000-4197-a725-24b28ebf92b5",
   "metadata": {},
   "outputs": [],
   "source": [
    "# Арифметические операторы Python\n",
    "# Они хорошо описаны в задании ноутбуке задания 3\n"
   ]
  },
  {
   "cell_type": "code",
   "execution_count": 16,
   "id": "d3b0fd9b-7dd4-47b5-8e02-682a04cad24d",
   "metadata": {},
   "outputs": [
    {
     "name": "stdout",
     "output_type": "stream",
     "text": [
      "x == y False\n",
      "x >= y False\n",
      "x <= y True\n",
      "x != y True\n",
      "x > y False\n",
      "x < y True\n"
     ]
    }
   ],
   "source": [
    "# 7 .3. Операторы сравнения в Python\n",
    "# Они хорошо описаны в задании ноутбуке задания 3\n",
    "x = 1\n",
    "y = 2\n",
    "\n",
    "print (\"x == y\", x == y)\n",
    "print (\"x >= y\", x >= y)\n",
    "print (\"x <= y\", x <= y)\n",
    "print (\"x != y\", x != y)\n",
    "print (\"x > y\", x > y)\n",
    "print (\"x < y\", x < y)"
   ]
  },
  {
   "cell_type": "code",
   "execution_count": 26,
   "id": "33fb54d1-dbdc-4ee0-aa8f-07078346db1d",
   "metadata": {},
   "outputs": [
    {
     "name": "stdout",
     "output_type": "stream",
     "text": [
      "     AND      \n",
      "True and True -> True\n",
      "True and False -> False\n",
      "False and True -> False\n",
      "False and False -> False\n",
      "     OR      \n",
      "True or True -> True\n",
      "True or False -> True\n",
      "False or True -> True\n",
      "False or False -> False\n",
      "     NOT      \n",
      "not False -> True\n",
      "not True -> False\n"
     ]
    }
   ],
   "source": [
    "# Логические операции\n",
    "# Они хорошо описаны в задании ноутбуке задания 3\n",
    "print(\"     AND      \") # И то И другое, нужно чтобы оба выражения / переменных были True для получения True\n",
    "print (\"True and True ->\", True and True)\n",
    "print (\"True and False ->\", True and False)\n",
    "print (\"False and True ->\", False and True)\n",
    "print (\"False and False ->\", False and False)\n",
    "print(\"     OR      \") # по-простому ИЛИ то ИЛИ это, т.е. достаточно чтобы хотя бы что-то одно было True\n",
    "print (\"True or True ->\", True or True)\n",
    "print (\"True or False ->\", True or False)\n",
    "print (\"False or True ->\", False or True)\n",
    "print (\"False or False ->\", False or False)\n",
    "print(\"     NOT      \") # как знак - в математике, меняет \"полярность\" переменной\n",
    "print (\"not False ->\", not False)\n",
    "print (\"not True ->\", not True)"
   ]
  },
  {
   "cell_type": "code",
   "execution_count": 38,
   "id": "9e09c742-2eac-45d3-a00c-79c09e5400e6",
   "metadata": {},
   "outputs": [
    {
     "name": "stdout",
     "output_type": "stream",
     "text": [
      "0b1100 & 0b0110 = 0b100\n"
     ]
    }
   ],
   "source": [
    "# Побитовые операторы Pythoп\n",
    "# Вам пока рано это изучать, оставлю это на потом, т.к. тема нужная, но пока для вас сложная.\n",
    "# Тем, кому интересно, можете поизучать, но это не необходимое на данный момент знание.\n",
    "\"\"\"\n",
    "& (И) / AND Выполняет поразрядное сравнение двух операндов, устанавливая бит результата в 1, \n",
    "если оба исходных бита равны 1 \n",
    "Пример: 0b1100 & 0b0110 = Оb0100\n",
    "По сути тоже самое, что и булево И, только сравнивается каждый бит числа\n",
    "  1100\n",
    "   &\n",
    "  0110\n",
    "   =\n",
    "  0100\n",
    "\n",
    "Порядок побитового сравнения:\n",
    "1 & 0 = 0 (True and False = False)\n",
    "1 & 1 = 1 (True and True = True)\n",
    "0 & 1 = 0 (False and True = False)\n",
    "0 & 0 = 0 (False and False = False)\n",
    "\"\"\"\n",
    "print(\"0b1100 & 0b0110 =\", bin(0b1100 & 0b0110))\n"
   ]
  },
  {
   "cell_type": "code",
   "execution_count": 40,
   "id": "ab6196d0-8bc4-4398-95c8-9ffba8a0aee1",
   "metadata": {},
   "outputs": [
    {
     "name": "stdout",
     "output_type": "stream",
     "text": [
      "0b1100 | 0b0110 = 0b1110\n"
     ]
    }
   ],
   "source": [
    "# Побитовые операторы Pythoп\n",
    "# Вам пока рано это изучать, оставлю это на потом, т.к. тема нужная, но пока для вас сложная.\n",
    "# Тем, кому интересно, можете поизучать, но это не необходимое на данный момент знание.\n",
    "\"\"\"\n",
    "| (ИЛИ) / OR Выполняет поразрядное сравнение двух\n",
    "операндов, устанавливая бит результата в 1, если один из исходных битов равен 1 \n",
    "Пример: 0b1100 | 0b0110 = 0b1110\n",
    "По сути тоже самое, что и булево ИЛИ, только сравнивается каждый бит числа\n",
    "  1100\n",
    "   |\n",
    "  0110\n",
    "   =\n",
    "  1110\n",
    "\n",
    "Порядок побитового сравнения:\n",
    "1 | 0 = 1 (True or False = True)\n",
    "1 | 1 = 1 (True or True = True)\n",
    "0 | 1 = 1 (False or True = True)\n",
    "0 | 0 = 0 (False or False = False)\n",
    "\"\"\"\n",
    "print(\"0b1100 | 0b0110 =\", bin(0b1100 | 0b0110))"
   ]
  },
  {
   "cell_type": "code",
   "execution_count": 42,
   "id": "d4678b9a-2361-4283-b6ea-f2a891cfd30e",
   "metadata": {},
   "outputs": [
    {
     "name": "stdout",
     "output_type": "stream",
     "text": [
      "0b1100 ^ 0b0110 = 0b1010\n"
     ]
    }
   ],
   "source": [
    "# Побитовые операторы Pythoп\n",
    "# Вам пока рано это изучать, оставлю это на потом, т.к. тема нужная, но пока для вас сложная.\n",
    "# Тем, кому интересно, можете поизучать, но это не необходимое на данный момент знание.\n",
    "\"\"\"\n",
    "^ (исключающее ИЛИ) / XOR  Выполняет поразрядное сравнение двух операндов, устанавливая бит результата в 1,\n",
    "если ровно один из исходных битов равен 1. \n",
    "Если же оба бита истинны или оба бита ложны, результирующий бит устанавливается равным О\n",
    "  1100\n",
    "   ^\n",
    "  0110\n",
    "   =\n",
    "  1010\n",
    "\n",
    "Порядок побитового сравнения:\n",
    "1 ^ 0 = 1 (True ^ False = True)\n",
    "1 ^ 1 = 0 (True ^ True = False)\n",
    "0 ^ 1 = 1 (False ^ True = True)\n",
    "0 ^ 0 = 0 (False ^ False = False)\n",
    "\"\"\"\n",
    "print(\"0b1100 ^ 0b0110 =\", bin(0b1100 ^ 0b0110))"
   ]
  },
  {
   "cell_type": "code",
   "execution_count": 50,
   "id": "249e9422-a801-46d3-b3a3-8ac1aaee8e40",
   "metadata": {},
   "outputs": [
    {
     "name": "stdout",
     "output_type": "stream",
     "text": [
      "В двоичном представлении: 0b00110011 << 2 = 0b11001100\n",
      "В десятичном представлении: 51 << 2 = 204\n"
     ]
    }
   ],
   "source": [
    "# Побитовые операторы Pythoп\n",
    "# Вам пока рано это изучать, оставлю это на потом, т.к. тема нужная, но пока для вас сложная.\n",
    "# Тем, кому интересно, можете поизучать, но это не необходимое на данный момент знание.\n",
    "\"\"\"\n",
    "<< побитовый сдвиг влево (быстрое умножение N раз на 2)\n",
    "  Сдвигает биты левого операнда влево на число позиций, задаваемых правым операндом. \n",
    "  Все новые биты устанавливаются равными О, а все отсекаемые биты теряются\n",
    "\n",
    "Пример: 0b00110011 << 2 = 0b11001100\n",
    "\"\"\"\n",
    "print(\"В двоичном представлении: 0b00110011 << 2 =\", bin(0b00110011 << 2))\n",
    "# в данном случае т.к. мы двигаем на 2, то происходит 2 раза умножение на 2, т.е. 1 раз на 4\n",
    "# 51 * 4 = 204\n",
    "print(\"В десятичном представлении:\", int(0b00110011) ,\"<< 2 =\", 0b00110011 << 2)"
   ]
  },
  {
   "cell_type": "code",
   "execution_count": 55,
   "id": "643ee274-7d9f-404d-a784-db93e3c78644",
   "metadata": {},
   "outputs": [
    {
     "name": "stdout",
     "output_type": "stream",
     "text": [
      "В двоичном представлении: 0b00110011 >> 2 = 0b1100\n",
      "В десятичном представлении: 51 >> 2 = 12\n"
     ]
    }
   ],
   "source": [
    "# Побитовые операторы Pythoп\n",
    "# Вам пока рано это изучать, оставлю это на потом, т.к. тема нужная, но пока для вас сложная.\n",
    "# Тем, кому интересно, можете поизучать, но это не необходимое на данный момент знание.\n",
    "\"\"\"\n",
    ">> побитовый сдвиг влево (быстрое деление N раз на 2)\n",
    "  Сдвигает биты левого операнда вправо на число позиций, задаваемых правым операндом. \n",
    "  Все новые биты устанавливаются равными О, а все отсекаемые биты теряются\n",
    "\n",
    "Пример: 0b00110011 >> 2 = 0b00001100\n",
    "\"\"\"\n",
    "print(\"В двоичном представлении: 0b00110011 >> 2 =\", bin(0b00110011 >> 2))\n",
    "# в данном случае т.к. мы двигаем на 2, то происходит 2 раза деление на 2, т.е. 1 раз на 4\n",
    "# 51 / 4 = 12,75 (но происходит округление до целого числа, дробная часть просто не учитывается)\n",
    "print(\"В десятичном представлении:\", int(0b00110011) ,\">> 2 =\", 0b00110011 >> 2)"
   ]
  },
  {
   "cell_type": "code",
   "execution_count": 95,
   "id": "670902d4-824c-4017-a91b-042704cf0db5",
   "metadata": {},
   "outputs": [
    {
     "name": "stdout",
     "output_type": "stream",
     "text": [
      "5\n",
      "7\n",
      "5\n",
      "10\n",
      "5.0\n",
      "1.0\n"
     ]
    }
   ],
   "source": [
    "# Операторы присваивания в Python\n",
    "# = Присваивает левому операнду значение правого операнда\n",
    "# MyVar = 5\n",
    "# Переменная MyVar содержит число 5\n",
    "MyVar = 5\n",
    "print(MyVar)\n",
    "# += Добавляет значение правого операнда к значению левого операнда и присваивает результат левому операнду \n",
    "# MyVar += 2\n",
    "# Переменная MyVar число содержит 7 (5 + 2)\n",
    "MyVar += 2\n",
    "print(MyVar)\n",
    "# -= Вычитает значение правого операнда из значению левого операнда и присваивает результат левому операнду \n",
    "# MyVar -= 2\n",
    "# Переменная MyVar число содержит 5 (7 - 2)\n",
    "MyVar -= 2\n",
    "print(MyVar)\n",
    "# *= Умножает значение правого операнда на значение левого операнда и присваивает результат левому операнду\n",
    "# MyVar *= 2\n",
    "# Переменная MyVar число содержит 10 (5 * 2) \n",
    "MyVar *= 2\n",
    "print(MyVar)\n",
    "# /= Делит значение правого операнда на значение левого операнда и присваивает результат левому операнду\n",
    "# MyVar /= 2\n",
    "# Переменная MyVar число содержит 5.0 (10 / 2) при делении тип переменной меняется на float из-за возможных дробных остатков\n",
    "MyVar /= 2\n",
    "print(MyVar)\n",
    "# Статья, где рассказывают что такое остаток от деления https://ru.wikipedia.org/wiki/Деление_с_остатком\n",
    "# %= Делит значение левого операнда на значение правого операнда и присваивает остаток от деления левому операнду\n",
    "# MyVar %= 2\n",
    "# Переменная MyVar число содержит 5.0 (5.0 % 2) \n",
    "# подробно: 5.0 % 2\n",
    "# a = 5\n",
    "# b = 2\n",
    "# Формула: a = b * q + r, где q - неполное частное от деления, а r - остаток от деления (искомое)\n",
    "# Также на r налогается доп условие: 0 <= r < abs(b)      abs(b) - это модуль b или |b|\n",
    "# Если остаток равен нулю, говорят, что a нацело делится на b\n",
    "# Решение в отдельной ячейке (cell) ниже\n",
    "# \n",
    "MyVar %= 2\n",
    "print(MyVar)\n"
   ]
  },
  {
   "cell_type": "code",
   "execution_count": 19,
   "id": "e9ca3867-e8ad-4955-a1cd-4ff8b25cce35",
   "metadata": {},
   "outputs": [
    {
     "name": "stdout",
     "output_type": "stream",
     "text": [
      "a=33, b=2, q=2, r=31, found=False\n",
      "a=33, b=2, q=3, r=29, found=False\n",
      "a=33, b=2, q=4, r=27, found=False\n",
      "a=33, b=2, q=5, r=25, found=False\n",
      "a=33, b=2, q=6, r=23, found=False\n",
      "a=33, b=2, q=7, r=21, found=False\n",
      "a=33, b=2, q=8, r=19, found=False\n",
      "a=33, b=2, q=9, r=17, found=False\n",
      "a=33, b=2, q=10, r=15, found=False\n",
      "a=33, b=2, q=11, r=13, found=False\n",
      "a=33, b=2, q=12, r=11, found=False\n",
      "a=33, b=2, q=13, r=9, found=False\n",
      "a=33, b=2, q=14, r=7, found=False\n",
      "a=33, b=2, q=15, r=5, found=False\n",
      "a=33, b=2, q=16, r=3, found=False\n",
      "a=33, b=2, q=16, r=1, found=True\n",
      "q = 16\n",
      "r = 1\n",
      "a % b = r = 1\n"
     ]
    }
   ],
   "source": [
    "# Алгоритм нахождения остатка от числа по формулам с википедии \n",
    "\n",
    "found = False\n",
    "a = 33\n",
    "b = 2\n",
    "q = 1 # предположительно (минимальное целове число, не равное 0)\n",
    "r = 0 # предположительно (минимальное целое число, удовлетворяющее доп условию)\n",
    "# a = b * q + r -> r = a - b * q\n",
    "\n",
    "# алгоритм сложностью O(n) сложность возрастает при увеличении n - числа прохода цикла\n",
    "while found == False:\n",
    "    r = a - b * q\n",
    "    if r >= 0 and r < b and r.is_integer(): # r.is_integer() - проверяем, что r - это целое число\n",
    "        found = True\n",
    "    else:\n",
    "        q += 1 # повышаем до след \n",
    "        \n",
    "    print(f\"a={a}, b={b}, q={q}, r={r}, found={found}\")\n",
    "\n",
    "print(\"q =\", q)\n",
    "print(\"r =\", r)\n",
    "print(\"a % b = r =\", a % b)"
   ]
  },
  {
   "cell_type": "code",
   "execution_count": null,
   "id": "791a1780-df45-4f6b-be4f-fa15b6c2b948",
   "metadata": {},
   "outputs": [],
   "source": []
  },
  {
   "cell_type": "code",
   "execution_count": null,
   "id": "95f98b94-1e8e-43e8-9da3-4f1487fdffba",
   "metadata": {},
   "outputs": [],
   "source": []
  }
 ],
 "metadata": {
  "kernelspec": {
   "display_name": "Python [conda env:base] *",
   "language": "python",
   "name": "conda-base-py"
  },
  "language_info": {
   "codemirror_mode": {
    "name": "ipython",
    "version": 3
   },
   "file_extension": ".py",
   "mimetype": "text/x-python",
   "name": "python",
   "nbconvert_exporter": "python",
   "pygments_lexer": "ipython3",
   "version": "3.12.7"
  }
 },
 "nbformat": 4,
 "nbformat_minor": 5
}
