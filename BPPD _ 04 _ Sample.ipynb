{
 "cells": [
  {
   "cell_type": "code",
   "execution_count": 65,
   "id": "337b1a8f-52e8-4dce-946c-9eaa3260bd10",
   "metadata": {},
   "outputs": [
    {
     "name": "stdout",
     "output_type": "stream",
     "text": [
      "Python - самая лучшая среда nрограммироааиия!\n",
      "но Java - лучше\n"
     ]
    }
   ],
   "source": [
    "print ('Python - самая лучшая среда nрограммироааиия!')\n",
    "print (\"но Java - лучше\")"
   ]
  },
  {
   "cell_type": "code",
   "execution_count": 19,
   "id": "2edd99d0-3fff-445c-a82f-6b01619ffc53",
   "metadata": {},
   "outputs": [
    {
     "name": "stdout",
     "output_type": "stream",
     "text": [
      "7\n"
     ]
    }
   ],
   "source": [
    "myVar = 3+4\n",
    "print (myVar)"
   ]
  },
  {
   "cell_type": "code",
   "execution_count": 61,
   "id": "9f7452ea-dec0-42a0-a092-fbfa3fd0af91",
   "metadata": {},
   "outputs": [
    {
     "name": "stdout",
     "output_type": "stream",
     "text": [
      "Привет Медвед\n"
     ]
    }
   ],
   "source": [
    "var1 = \"Привет\"\n",
    "var2 = \"Медвед\"\n",
    "print (var1 + \" \" + var2)\n"
   ]
  },
  {
   "cell_type": "code",
   "execution_count": 37,
   "id": "f3e697cc-4305-49bd-ab7f-2d40a6d84d50",
   "metadata": {},
   "outputs": [
    {
     "name": "stdout",
     "output_type": "stream",
     "text": [
      "Реально дпинная текстовая строка, которая будет занимать несколько строк в файле исходного кода\n"
     ]
    }
   ],
   "source": [
    "print (\"Реально дпинная текстовая строка, которая будет \" + \n",
    "       \"занимать несколько строк в файле исходного кода\")"
   ]
  },
  {
   "cell_type": "code",
   "execution_count": 41,
   "id": "7d2eba79-7612-4df8-86d0-adedb4b3aa1a",
   "metadata": {},
   "outputs": [
    {
     "name": "stdout",
     "output_type": "stream",
     "text": [
      "Комментарий не печатается\n"
     ]
    }
   ],
   "source": [
    "# Пример комментария к коду\n",
    "print (\"Комментарий не печатается\") #Еще один пример комментария."
   ]
  },
  {
   "cell_type": "code",
   "execution_count": 53,
   "id": "e33f8fd5-aab8-433c-b955-1ffb7518026f",
   "metadata": {},
   "outputs": [
    {
     "data": {
      "text/plain": [
       "'\\n    Приложение: Comrnents.py\\n    Автор: Алекс\\n    Назначение: демонстрация применения комментариев\\n'"
      ]
     },
     "execution_count": 53,
     "metadata": {},
     "output_type": "execute_result"
    }
   ],
   "source": [
    "# Пример многострочного комментария, который поддерживается не везде, например нотбук его интерпретирует по своему.\n",
    "\"\"\"\n",
    "    Приложение: Comrnents.py\n",
    "    Автор: Алекс\n",
    "    Назначение: демонстрация применения комментариев\n",
    "\"\"\""
   ]
  },
  {
   "cell_type": "code",
   "execution_count": 51,
   "id": "804eee37-6a95-4fb0-96dd-b7773037ab9c",
   "metadata": {},
   "outputs": [
    {
     "data": {
      "text/plain": [
       "'\\n    -- они позволяют вспомнить, с какой целью создавался код и какую задачу он решает;\\n    -- они содержат указания о том, как правильно запускать программу;\\n    -- они упрощают работу с кодом другим программистам;\\n    -- они содержат подсказки относительно будущих обновлений кода;\\n    -- они содержат ссылки на документацию;\\n    -- они содержат список изменений, которые были внесены в код.\\n'"
      ]
     },
     "execution_count": 51,
     "metadata": {},
     "output_type": "execute_result"
    }
   ],
   "source": [
    "# Для чего нужны комментарии в коде:\n",
    "\"\"\"\n",
    "    -- они позволяют вспомнить, с какой целью создавался код и какую задачу он решает;\n",
    "    -- они содержат указания о том, как правильно запускать программу;\n",
    "    -- они упрощают работу с кодом другим программистам;\n",
    "    -- они содержат подсказки относительно будущих обновлений кода;\n",
    "    -- они содержат ссылки на документацию;\n",
    "    -- они содержат список изменений, которые были внесены в код.\n",
    "\"\"\""
   ]
  },
  {
   "cell_type": "code",
   "execution_count": 59,
   "id": "d614e058-0c9b-4614-9016-bfbed6ff7fcf",
   "metadata": {},
   "outputs": [
    {
     "name": "stdout",
     "output_type": "stream",
     "text": [
      "а это будет\n"
     ]
    }
   ],
   "source": [
    "# Комментарий, предотвращающий выполнение кода\n",
    "# print (\"Это не будет напечатано\")\n",
    "print (\"а это будет\")"
   ]
  },
  {
   "cell_type": "code",
   "execution_count": null,
   "id": "2d39b7c6-abed-4f09-af5f-d639b5db0d22",
   "metadata": {},
   "outputs": [],
   "source": []
  }
 ],
 "metadata": {
  "kernelspec": {
   "display_name": "Python [conda env:base] *",
   "language": "python",
   "name": "conda-base-py"
  },
  "language_info": {
   "codemirror_mode": {
    "name": "ipython",
    "version": 3
   },
   "file_extension": ".py",
   "mimetype": "text/x-python",
   "name": "python",
   "nbconvert_exporter": "python",
   "pygments_lexer": "ipython3",
   "version": "3.12.7"
  }
 },
 "nbformat": 4,
 "nbformat_minor": 5
}
