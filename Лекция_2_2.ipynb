{
 "cells": [
  {
   "cell_type": "code",
   "execution_count": 64,
   "id": "6f76eb22-9833-4b80-8456-a0bec2f2f12b",
   "metadata": {
    "scrolled": true
   },
   "outputs": [
    {
     "name": "stdout",
     "output_type": "stream",
     "text": [
      "ведите ваще имя\n"
     ]
    },
    {
     "name": "stdin",
     "output_type": "stream",
     "text": [
      " Cthutq\n"
     ]
    },
    {
     "name": "stdout",
     "output_type": "stream",
     "text": [
      "Ваше имя: Cthutq\n",
      "ведите ваш возраст\n"
     ]
    },
    {
     "name": "stdin",
     "output_type": "stream",
     "text": [
      " 100\n"
     ]
    },
    {
     "name": "stdout",
     "output_type": "stream",
     "text": [
      "Ваш возраст 100\n",
      "idi sam na CVO\n",
      "ведите ваш e-mail\n"
     ]
    },
    {
     "name": "stdin",
     "output_type": "stream",
     "text": [
      " sfgsff\n"
     ]
    },
    {
     "name": "stdout",
     "output_type": "stream",
     "text": [
      "Ваш e-mail sfgsff\n",
      "idi sam na CVO\n"
     ]
    }
   ],
   "source": [
    "def prompt_name():\n",
    "    print(\"ведите ваще имя\")\n",
    "    f_name=input()\n",
    "    print(f\"Ваше имя: {f_name}\")\n",
    "    return f_name\n",
    "\n",
    "def prompt_age():\n",
    "    print(\"ведите ваш возраст\")\n",
    "    f_age=input()\n",
    "    print(f\"Ваш возраст {f_age}\")\n",
    "    return int (f_age)\n",
    "\n",
    "def prompt_email():\n",
    "    print(\"ведите ваш e-mail\")\n",
    "    f_e_mail=input()\n",
    "    print(f\"Ваш e-mail {f_e_mail}\")\n",
    "    return f_e_mail\n",
    "\n",
    "def prompt_all():\n",
    "    f_name = prompt_name()\n",
    "    f_age = prompt_age()\n",
    "    f_email = prompt_email()\n",
    "    return f_name, f_age, f_email # 0, 1, 2\n",
    "\n",
    "def check_age(checked_age):\n",
    "    if checked_age >=18 and checked_age <45:\n",
    "        print (\"otpravka v voenkomat dannye...Pora na CVO\")\n",
    "    elif checked_age <18 :\n",
    "        print (\"pey sosky\")\n",
    "    elif checked_age >=45 :\n",
    "        print (\"idi sam na CVO\")\n",
    "\n",
    "# Функция умножает 2 числа друг на друга\n",
    "# Параметр а - целое число\n",
    "# Параметр b - целое число\n",
    "def multiply(a, b):\n",
    "    return a * b\n",
    "\n",
    "\n",
    "# Основной код анкеты находится ниже\n",
    "\n",
    "# Собрали анкету\n",
    "anketa = prompt_all()\n",
    "\n",
    "name = anketa[0]\n",
    "age = anketa[1]\n",
    "email = anketa[2]\n",
    "\n",
    "# Проверяем анкету\n",
    "chek_name()\n",
    "check_age(f_age)\n",
    "\n",
    "    "
   ]
  },
  {
   "cell_type": "code",
   "execution_count": 16,
   "id": "4f61ce53-91cb-4ecf-aab3-7fdf9d038d68",
   "metadata": {},
   "outputs": [
    {
     "data": {
      "text/plain": [
       "8"
      ]
     },
     "execution_count": 16,
     "metadata": {},
     "output_type": "execute_result"
    }
   ],
   "source": []
  },
  {
   "cell_type": "code",
   "execution_count": 102,
   "id": "2824358e-cd81-4dd3-a643-a04681cec328",
   "metadata": {},
   "outputs": [
    {
     "ename": "SyntaxError",
     "evalue": "invalid syntax. Perhaps you forgot a comma? (3322852334.py, line 2)",
     "output_type": "error",
     "traceback": [
      "\u001b[0;36m  Cell \u001b[0;32mIn[102], line 2\u001b[0;36m\u001b[0m\n\u001b[0;31m    3, 0, 0, 0, 0, 0\u001b[0m\n\u001b[0m                   ^\u001b[0m\n\u001b[0;31mSyntaxError\u001b[0m\u001b[0;31m:\u001b[0m invalid syntax. Perhaps you forgot a comma?\n"
     ]
    }
   ],
   "source": [
    "\n",
    "my_array = [5, 59, 11, 23]\n",
    "\n",
    "print(f\"Что внутри массива: {my_array}\")\n",
    "my_array.sort() # по возрастанию\n",
    "print(f\"Отсортированный массив: {my_array}\")\n",
    "my_array.reverse() # по убыванию\n",
    "print(f\"Отсортированный обратно массив: {my_array}\")\n",
    "\n",
    "var = my_array[0]\n",
    "print (f\"Текущий элемент массива с идексом 0 (1 элемент в массиве): {var}\")\n",
    "\n",
    "var = my_array[3]\n",
    "print (f\"Текущий элемент массива с идексом 3 (4 элемент в массиве): {var}\")\n",
    "length = len(my_array)\n",
    "print(f\"Длина массива: {length}\")\n",
    "var = my_array[len(my_array) - 1]\n",
    "print (f\"Текущий элемент массива с последним индексом: {var}\")\n",
    "\n",
    "\n"
   ]
  },
  {
   "cell_type": "code",
   "execution_count": 136,
   "id": "a463cbb4-e663-4397-8671-80442302cded",
   "metadata": {},
   "outputs": [
    {
     "name": "stdout",
     "output_type": "stream",
     "text": [
      "kompania programmistov serega,ilya,alex\n",
      "skolko dolgen kajdyi?\n",
      "(formula)(a+b+c)/3\n",
      "sredee znashenia= 1026.6666666666667\n",
      "formula rasheta?\n",
      "serega: -1026.6666666666667 , ilya: -1026.6666666666667 , alex : 2053.333333333333\n",
      "love: 1026.6666666666663\n"
     ]
    }
   ],
   "source": [
    "\n",
    "    def dolgnik (a,b,c):\n",
    "        print (\"(formula)(a+b+c)/3\")\n",
    "        return (a+b+c)/3\n",
    "    \n",
    "\n",
    "\n",
    "    print (\"kompania programmistov serega,ilya,alex\")\n",
    "    serega=0\n",
    "    ilya=0\n",
    "    alex=3080\n",
    "    print (f\"skolko dolgen kajdyi?\")\n",
    "    \n",
    "    average=dolgnik (serega,ilya,alex)\n",
    "    print (f\"sredee znashenia= {average}\")\n",
    "    print (\"formula rasheta?\")\n",
    "    d_serega=serega-average\n",
    "    d_ilya=ilya-average\n",
    "    d_alex=alex-average\n",
    "    print (f\"serega: {d_serega} , ilya: {d_ilya} , alex : {d_alex}\")\n",
    "    love=d_serega+d_alex \n",
    "    print (f\"love: {love}\")\n",
    "\n",
    "\n"
   ]
  },
  {
   "cell_type": "code",
   "execution_count": 180,
   "id": "a69d0d69-17d5-449b-9603-1abbc57494fb",
   "metadata": {},
   "outputs": [
    {
     "name": "stdout",
     "output_type": "stream",
     "text": [
      "skolko dolb \n"
     ]
    },
    {
     "name": "stdin",
     "output_type": "stream",
     "text": [
      " 3\n"
     ]
    },
    {
     "name": "stdout",
     "output_type": "stream",
     "text": [
      "human: 3\n",
      "write your name\n"
     ]
    },
    {
     "name": "stdin",
     "output_type": "stream",
     "text": [
      " S\n"
     ]
    },
    {
     "name": "stdout",
     "output_type": "stream",
     "text": [
      " write your summ\n"
     ]
    },
    {
     "name": "stdin",
     "output_type": "stream",
     "text": [
      " 0.50\n"
     ]
    },
    {
     "name": "stdout",
     "output_type": "stream",
     "text": [
      "write your name\n"
     ]
    },
    {
     "name": "stdin",
     "output_type": "stream",
     "text": [
      " I\n"
     ]
    },
    {
     "name": "stdout",
     "output_type": "stream",
     "text": [
      " write your summ\n"
     ]
    },
    {
     "name": "stdin",
     "output_type": "stream",
     "text": [
      " 1.73\n"
     ]
    },
    {
     "name": "stdout",
     "output_type": "stream",
     "text": [
      "write your name\n"
     ]
    },
    {
     "name": "stdin",
     "output_type": "stream",
     "text": [
      " A\n"
     ]
    },
    {
     "name": "stdout",
     "output_type": "stream",
     "text": [
      " write your summ\n"
     ]
    },
    {
     "name": "stdin",
     "output_type": "stream",
     "text": [
      " 3080.38\n"
     ]
    },
    {
     "name": "stdout",
     "output_type": "stream",
     "text": [
      "Массив имен: ['S', 'I', 'A']\n",
      "Массив сумм: [0.5, 1.73, 3080.38]\n",
      "Средняя сумма: 1027.5366666666666\n",
      "S должен заплатить: 1027.0366666666666 руб\n",
      "I должен заплатить: 1025.8066666666666 руб\n",
      "A должен получить: 2052.8433333333332 руб\n"
     ]
    }
   ],
   "source": [
    "import math\n",
    "\n",
    "# 5.3\n",
    "def our_floor(a):\n",
    "    a_int = int(a) # 5\n",
    "    a_d = a - a_int # 5.3 - 5 = 0,3 \n",
    "    if a_d >= 0.5:\n",
    "        return a_int + 1 # 6\n",
    "    else:\n",
    "        return a_int # 5\n",
    "    \n",
    "\n",
    "def read_name_summa():\n",
    "    print(\"write your name\")\n",
    "    name=input()\n",
    "    print(\" write your summ\")\n",
    "    summ=float(input())\n",
    "    return name,summ \n",
    "\n",
    "# Рассчет среднего значения\n",
    "def calc_average(count, summas):\n",
    "    common = 0\n",
    "    for summ in summas:\n",
    "        common = common + summ\n",
    "    return common / count\n",
    "        \n",
    "    \n",
    "# Рассчет кто кому сколько должен\n",
    "def calc_money(count, average, names, summas):\n",
    "     for i in range(0, count):\n",
    "         summ = summas[i]\n",
    "         name = names[i]\n",
    "         d_summ = summ - average\n",
    "        \n",
    "         if d_summ < 0:\n",
    "             print(f\"{name} должен заплатить: {math.fabs(d_summ)} руб\")\n",
    "         else:\n",
    "             print(f\"{name} должен получить: {math.fabs(d_summ)} руб\")\n",
    "\n",
    "\n",
    "print(\"skolko dolb \")\n",
    "count=int(input())\n",
    "print(f\"human: {count}\")\n",
    "names=[0]*count\n",
    "summas=[0]*count\n",
    "\n",
    "for i in range(0, count):\n",
    "    anketa = read_name_summa()\n",
    "    names[i] = anketa[0]\n",
    "    summas[i] = anketa[1]\n",
    "\n",
    "print(f\"Массив имен: {names}\")\n",
    "print(f\"Массив сумм: {summas}\")\n",
    "\n",
    "average = calc_average(count, summas)\n",
    "print(f\"Средняя сумма: {average}\")\n",
    "\n",
    "calc_money(count, average, names, summas)\n",
    "\n",
    "\n"
   ]
  },
  {
   "cell_type": "code",
   "execution_count": null,
   "id": "adb882f2-5223-4312-b483-8fb5c74381f7",
   "metadata": {},
   "outputs": [],
   "source": []
  }
 ],
 "metadata": {
  "kernelspec": {
   "display_name": "Python [conda env:base] *",
   "language": "python",
   "name": "conda-base-py"
  },
  "language_info": {
   "codemirror_mode": {
    "name": "ipython",
    "version": 3
   },
   "file_extension": ".py",
   "mimetype": "text/x-python",
   "name": "python",
   "nbconvert_exporter": "python",
   "pygments_lexer": "ipython3",
   "version": "3.12.7"
  }
 },
 "nbformat": 4,
 "nbformat_minor": 5
}
